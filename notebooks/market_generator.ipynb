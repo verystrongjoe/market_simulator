{
 "cells": [
  {
   "cell_type": "markdown",
   "metadata": {},
   "source": [
    "# Market generator"
   ]
  },
  {
   "cell_type": "code",
   "execution_count": 4,
   "metadata": {
    "scrolled": false
   },
   "outputs": [
    {
     "ename": "ModuleNotFoundError",
     "evalue": "No module named 'matplotlib'",
     "output_type": "error",
     "traceback": [
      "\u001B[1;31m---------------------------------------------------------------------------\u001B[0m",
      "\u001B[1;31mModuleNotFoundError\u001B[0m                       Traceback (most recent call last)",
      "\u001B[1;32m<ipython-input-4-124db50c9b44>\u001B[0m in \u001B[0;36m<module>\u001B[1;34m\u001B[0m\n\u001B[0;32m      1\u001B[0m \u001B[1;32mfrom\u001B[0m \u001B[0mtqdm\u001B[0m \u001B[1;32mimport\u001B[0m \u001B[0mtqdm\u001B[0m\u001B[1;33m\u001B[0m\u001B[1;33m\u001B[0m\u001B[0m\n\u001B[1;32m----> 2\u001B[1;33m \u001B[1;32mimport\u001B[0m \u001B[0mmatplotlib\u001B[0m\u001B[1;33m.\u001B[0m\u001B[0mpyplot\u001B[0m \u001B[1;32mas\u001B[0m \u001B[0mplt\u001B[0m\u001B[1;33m\u001B[0m\u001B[1;33m\u001B[0m\u001B[0m\n\u001B[0m\u001B[0;32m      3\u001B[0m \u001B[1;32mimport\u001B[0m \u001B[0mnumpy\u001B[0m \u001B[1;32mas\u001B[0m \u001B[0mnp\u001B[0m\u001B[1;33m\u001B[0m\u001B[1;33m\u001B[0m\u001B[0m\n\u001B[0;32m      4\u001B[0m \u001B[1;32mimport\u001B[0m \u001B[0mdatetime\u001B[0m\u001B[1;33m\u001B[0m\u001B[1;33m\u001B[0m\u001B[0m\n\u001B[0;32m      5\u001B[0m \u001B[1;33m\u001B[0m\u001B[0m\n",
      "\u001B[1;31mModuleNotFoundError\u001B[0m: No module named 'matplotlib'"
     ]
    }
   ],
   "source": [
    "from tqdm import tqdm\n",
    "import matplotlib.pyplot as plt\n",
    "import numpy as np\n",
    "import datetime\n",
    "\n",
    "import base\n",
    "import market_generator\n",
    "from utils import tosig"
   ]
  },
  {
   "cell_type": "code",
   "execution_count": null,
   "metadata": {},
   "outputs": [],
   "source": [
    "# Signature order\n",
    "order = 4"
   ]
  },
  {
   "cell_type": "markdown",
   "metadata": {},
   "source": [
    "## Load monthly paths"
   ]
  },
  {
   "cell_type": "code",
   "execution_count": null,
   "metadata": {},
   "outputs": [],
   "source": [
    "# ^GSPC is S&P 500.\n",
    "ticker = \"^GSPC\"\n",
    "MG = market_generator.MarketGenerator(ticker, start=datetime.date(2000, 1, 1),\n",
    "                                      freq=\"W\", sig_order=order)"
   ]
  },
  {
   "cell_type": "markdown",
   "metadata": {},
   "source": [
    "## Plot paths"
   ]
  },
  {
   "cell_type": "code",
   "execution_count": null,
   "metadata": {},
   "outputs": [],
   "source": [
    "for path in MG.windows:\n",
    "    returns = path[::2, 1] / path[0, 1]\n",
    "    plt.plot(returns, \"b\", alpha=0.05)\n",
    "\n",
    "plt.title(\"Monthly paths\")\n",
    "plt.xlabel(\"Days\")\n",
    "plt.show()"
   ]
  },
  {
   "cell_type": "markdown",
   "metadata": {},
   "source": [
    "## Train generative model"
   ]
  },
  {
   "cell_type": "code",
   "execution_count": null,
   "metadata": {},
   "outputs": [],
   "source": [
    "MG.train(n_epochs=10000)"
   ]
  },
  {
   "cell_type": "markdown",
   "metadata": {},
   "source": [
    "## Generate"
   ]
  },
  {
   "cell_type": "code",
   "execution_count": null,
   "metadata": {},
   "outputs": [],
   "source": [
    "generated = np.array([MG.generate(cond) for cond in MG.conditions])\n",
    "#generated = MG.generate(MG.conditions[100], n_samples=len(MG.logsigs))\n",
    "#generated = MG.generate(MG.conditions[150][2] * 0.5, n_samples=len(MG.logsigs))\n",
    "\n",
    "generated_sigs = np.array([tosig.logsig2sig(logsig, 2, order) for logsig in tqdm(generated)])\n",
    "real_sigs = np.array([tosig.logsig2sig(logsig, 2, order) for logsig in tqdm(MG.orig_logsig)])"
   ]
  },
  {
   "cell_type": "code",
   "execution_count": null,
   "metadata": {},
   "outputs": [],
   "source": [
    "from esig.tosig import sigkeys\n",
    "\n",
    "keys = sigkeys(2, order).split()\n",
    "\n",
    "PROJECTIONS = [(4, 5), (2, 4), (6, 7), (9, 2)]\n",
    "\n",
    "plt.figure(figsize=(12, 8))\n",
    "for i, projection in enumerate(PROJECTIONS):\n",
    "    plt.subplot(2, 2, i + 1)\n",
    "\n",
    "    plt.scatter(real_sigs[:, projection[0]], real_sigs[:, projection[1]],\n",
    "                label=\"Real data\")\n",
    "    plt.scatter(generated_sigs[:, projection[0]], generated_sigs[:, projection[1]],\n",
    "               label=\"Generated\")\n",
    "    plt.xlabel(keys[projection[0]], fontsize=14)\n",
    "    plt.ylabel(keys[projection[1]], fontsize=14)\n",
    "    plt.xticks([])\n",
    "    plt.yticks([])\n",
    "    #plt.legend()\n",
    "    \n",
    "plt.show()"
   ]
  },
  {
   "cell_type": "markdown",
   "metadata": {},
   "source": [
    "## Validation: two-sample statistical test"
   ]
  },
  {
   "cell_type": "code",
   "execution_count": null,
   "metadata": {},
   "outputs": [],
   "source": [
    "import process_discriminator\n",
    "\n",
    "normalised_generated = np.array([MG.generate(cond, normalised=True) for cond in MG.conditions])\n",
    "sigs1 = np.array([tosig.logsig2sig(logsig, 2, order) for logsig in tqdm(normalised_generated)])\n",
    "sigs2 = np.array([tosig.logsig2sig(logsig, 2, order) for logsig in tqdm(MG.logsigs)])\n",
    "\n",
    "res = process_discriminator.test(sigs1, sigs2, order=order, compute_sigs=False,\n",
    "                                 confidence_level=0.99)\n",
    "\n",
    "print(\"Are the generated and real distributions DIFFERENT? {}\".format(res))"
   ]
  },
  {
   "cell_type": "markdown",
   "metadata": {},
   "source": [
    "## Invert log-signature"
   ]
  },
  {
   "cell_type": "code",
   "execution_count": null,
   "metadata": {},
   "outputs": [],
   "source": [
    "import logsig_inversion\n",
    "from esig.tosig import stream2logsig\n",
    "from utils.leadlag import leadlag\n",
    "\n",
    "logsig = MG.generate(MG.conditions[0])"
   ]
  },
  {
   "cell_type": "code",
   "execution_count": null,
   "metadata": {},
   "outputs": [],
   "source": [
    "pip = 0.01\n",
    "n_pips = 50 * 100 # 50$\n",
    "n_points = 21\n",
    "\n",
    "n_iterations = 100\n",
    "n_organisms = 100\n",
    "\n",
    "recovered_path, loss = logsig_inversion.train(logsig, order, n_iterations, n_organisms, n_points,\n",
    "                                              pip, n_pips)"
   ]
  },
  {
   "cell_type": "code",
   "execution_count": null,
   "metadata": {},
   "outputs": [],
   "source": [
    "plt.plot(recovered_path)\n",
    "plt.show()\n",
    "print(f\"Target log-signature: {logsig.tolist()}\")\n",
    "print(f\"Recovered log-signature: {stream2logsig(leadlag(recovered_path), order).tolist()}\")"
   ]
  },
  {
   "cell_type": "code",
   "execution_count": null,
   "metadata": {},
   "outputs": [],
   "source": [
    "paths = []\n",
    "for condition in MG.conditions:\n",
    "    logsig = MG.generate(condition)\n",
    "    recovered_path, loss = logsig_inversion.train(logsig, order, n_iterations, n_organisms, n_points,\n",
    "                                                  pip, n_pips)\n",
    "    \n",
    "    paths.append(recovered_path)"
   ]
  },
  {
   "cell_type": "code",
   "execution_count": null,
   "metadata": {},
   "outputs": [],
   "source": [
    "import matplotlib.patches as mpatches\n",
    "\n",
    "plt.figure(figsize=(8, 6))\n",
    "for path1, path2 in zip(paths, MG.windows):\n",
    "    returns = path2[::2, 1][:20] - path2[0, 1]\n",
    "    plt.plot(returns, \"C1\", alpha=0.25)\n",
    "\n",
    "    plt.plot(path1[:20], \"C0\", alpha=0.25)\n",
    "    \n",
    "    \n",
    "blue_patch = mpatches.Patch(color='C0', label='Generated paths')\n",
    "red_patch = mpatches.Patch(color='C1', label='Real paths')\n",
    "plt.legend(handles=[blue_patch, red_patch], fontsize=12)    \n",
    "plt.xlabel(\"Days\", fontsize=14) \n",
    "plt.show()"
   ]
  },
  {
   "cell_type": "code",
   "execution_count": null,
   "metadata": {},
   "outputs": [],
   "source": [
    "returns1 = [path[-1] - path[0] for path in paths]\n",
    "returns2 = [path[-1, 1] - path[0, 0] for path in MG.windows]\n",
    "\n",
    "_ = plt.hist([returns1, returns2], bins=20, label=[\"Real paths\", \"Generated paths\"])\n",
    "plt.xlabel(\"Monthly return\", fontsize=14)\n",
    "plt.legend(fontsize=12)\n",
    "plt.show()"
   ]
  },
  {
   "cell_type": "code",
   "execution_count": null,
   "metadata": {},
   "outputs": [],
   "source": [
    "def concatenate(condition, periods):\n",
    "    joined_path = None\n",
    "\n",
    "    for _ in range(periods):\n",
    "        generated = MG.generate(condition)\n",
    "        path, loss = logsig_inversion.train(generated, order, n_iterations, n_organisms, n_points,\n",
    "                                            pip, n_pips)\n",
    "\n",
    "        condition = tosig.stream2logsig(market_generator.leadlag(recovered_path), order)\n",
    "        condition = MG.scaler.transform([condition])[0]\n",
    "\n",
    "        if joined_path is None:\n",
    "            joined_path = path\n",
    "        else:\n",
    "            joined_path = np.r_[joined_path, np.add(path[1:], joined_path[-1])]\n",
    "            \n",
    "    return joined_path"
   ]
  },
  {
   "cell_type": "code",
   "execution_count": null,
   "metadata": {},
   "outputs": [],
   "source": [
    "idx = 220\n",
    "\n",
    "condition = MG.conditions[idx]\n",
    "\n",
    "paths = [concatenate(condition, 12) for _ in range(10)]\n",
    "\n",
    "plt.plot(np.transpose(paths))\n",
    "plt.show()"
   ]
  },
  {
   "cell_type": "code",
   "execution_count": null,
   "metadata": {},
   "outputs": [],
   "source": [
    "plt.plot(MG.windows[idx + 1][0, 0] + np.transpose(paths))\n",
    "plt.xlabel(\"Days\", fontsize=14) \n",
    "plt.show()"
   ]
  },
  {
   "cell_type": "code",
   "execution_count": null,
   "metadata": {},
   "outputs": [],
   "source": []
  }
 ],
 "metadata": {
  "kernelspec": {
   "display_name": "Python 3",
   "language": "python",
   "name": "python3"
  },
  "language_info": {
   "codemirror_mode": {
    "name": "ipython",
    "version": 3
   },
   "file_extension": ".py",
   "mimetype": "text/x-python",
   "name": "python",
   "nbconvert_exporter": "python",
   "pygments_lexer": "ipython3",
   "version": "3.7.7"
  }
 },
 "nbformat": 4,
 "nbformat_minor": 2
}